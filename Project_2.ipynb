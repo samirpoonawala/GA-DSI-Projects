{
 "cells": [
  {
   "cell_type": "markdown",
   "metadata": {},
   "source": [
    "# ![](https://ga-dash.s3.amazonaws.com/production/assets/logo-9f88ae6c9c3871690e33280fcf557f33.png)\n",
    "\n",
    "# GA Data Science Immersive Project 2: Online Store Manager\n",
    "#### Due Wednesday, November 16, 9 am\n",
    "\n",
    "### Overview\n",
    "\n",
    "Imagine that you own a website that allows your customers to create new Online Stores. An example of a webpage that offers that type of service is weebly.com. Take a moment to check out the site.\n",
    "\n",
    "Your project for the 2nd week will be to create an OnlineStoreManager (OSM) as described below. Write out the story and create a diagram. Create a use case of your OSM and document your code appropriately. All transactions such as adding inventory and selling items have to go through the OnlineStore object.\n",
    "\n",
    "Each object of the class OSM has a special method called CreateOnlineStore which creates an OnlineStore using a specific template specified by a list of Products that the store can sell. An example would be a store that offers Books, CDs, and News Papers. The specific OSM object can only create new stores that can sell the items specified in the template. The OSM object stores the number of stores it created and also stores a list of all of the stores it created.\n",
    "\n",
    "Each newly created online store using the OSM template has a Name, an Inventory and a list of Customers. The inventory can hold only items defined in the template and are separated by item type. For example if the online store sells books then Inventory can hold items of type book. You can only add items to the inventory which the store can hold. You cannot sell items that you do not have. The online store has a method which allows you to summarize the inventory.\n",
    "\n",
    "You can add customers to each online store. Each customer of an online store has a history of purchased items. The online store provides a method which allows you to summarize the purchase history of each of the store's customers.\n",
    "\n",
    "You might find it useful to override the following methods: _repr_, _eq_, _add_. If you were to overload _eq_ for a hypothetical class Point for example you can use expressions such as:\n",
    "\n",
    "```\n",
    "if point in ListOfPoints\n",
    "ListOfPoints.remove(point)\n",
    "```\n",
    "\n",
    "**Bonus and highly worth it:**\n",
    "If you decide to overload the functions _getitem_ and _setitem_ you can access your objects using the [] - Operator. What other Operators can you overload in Python?\n",
    "\n",
    "\n",
    "**Deliverables**: a Jupyter notebook, or .py file, with your well-commented code, and the story digram uploaded to github.  In your code, you should also include an implementation of the code.  Also write a blog entry of 300+ words describing your approach and design."
   ]
  },
  {
   "cell_type": "code",
   "execution_count": null,
   "metadata": {
    "collapsed": true
   },
   "outputs": [],
   "source": [
    "# start with a diagram"
   ]
  },
  {
   "cell_type": "code",
   "execution_count": 78,
   "metadata": {
    "collapsed": true
   },
   "outputs": [],
   "source": [
    "# OSM object stores number of stores created and also a list of all the stores it created\n",
    "\n",
    "class OSM(object):\n",
    "    # each newly created online store using OSM template has a Name, an Inventory and a list of Customers\n",
    "    def __init__(self):\n",
    "        self.storeList = []\n",
    "        self.customers = {}\n",
    "        #self.inventory = [Items('apples', 20), Items('oranges', 20), Items('pears', 20)]\n",
    "        self.inventory = ['apples','oranges','pears'] # each store begins with same inventory\n",
    "    \n",
    "    def CreateOnlineStore(self, name):\n",
    "        newStore = OnlineStore(name, self.inventory, self.customers)\n",
    "        self.storeList.append(newStore)"
   ]
  },
  {
   "cell_type": "code",
   "execution_count": 79,
   "metadata": {
    "collapsed": false
   },
   "outputs": [],
   "source": [
    "# Each online store created using the OSM template has a Name, an Inventory and a list of Customers\n",
    "\n",
    "class OnlineStore(object):\n",
    "    # online store constructor\n",
    "    def __init__(self, name, inventory, customers):\n",
    "        self.name = name\n",
    "        self.inventory = inventory\n",
    "        self.customers = customers\n",
    "    \n",
    "    def sale(self, product, customer):\n",
    "        if product in self.inventory:\n",
    "            if customer not in self.customers:\n",
    "                self.customers[customer] = []\n",
    "            self.customers[customer].append(product)\n",
    "            # print(self.customers)\n",
    "        else:\n",
    "            print(\"Don't be a fool! You can't sell what you don't have\")\n",
    "\n",
    "\n",
    "# Not being used. For exploration at later date.\n",
    "class Items(object):\n",
    "    def __init__(self, itemName, price, quantity):\n",
    "        self.itemName = itemName\n",
    "        self.price = price\n",
    "        self.quantity = quantity"
   ]
  },
  {
   "cell_type": "code",
   "execution_count": 81,
   "metadata": {
    "collapsed": false
   },
   "outputs": [
    {
     "name": "stdout",
     "output_type": "stream",
     "text": [
      "FirstStore\n"
     ]
    }
   ],
   "source": [
    "osm = OSM()\n",
    "firstStore = osm.CreateOnlineStore(\"FirstStore\")\n",
    "print osm.storeList[0].name\n",
    "osm.storeList[0].sale(\"apples\", \"john\")\n",
    "osm.storeList[0].sale(\"apples\", \"john\")\n",
    "\n",
    "#oranges = osm.storeList[0].inventory[1]\n",
    "#pears   = osm.storeList[0].inventory[2]\n",
    "#apples  = osm.storeList[0].inventory[0]\n",
    "\n",
    "#pears.itemName\n",
    "#apples.quantity -= 2\n",
    "\n",
    "#print apples.quantity\n"
   ]
  }
 ],
 "metadata": {
  "anaconda-cloud": {},
  "kernelspec": {
   "display_name": "Python [conda root]",
   "language": "python",
   "name": "conda-root-py"
  },
  "language_info": {
   "codemirror_mode": {
    "name": "ipython",
    "version": 2
   },
   "file_extension": ".py",
   "mimetype": "text/x-python",
   "name": "python",
   "nbconvert_exporter": "python",
   "pygments_lexer": "ipython2",
   "version": "2.7.12"
  }
 },
 "nbformat": 4,
 "nbformat_minor": 1
}
